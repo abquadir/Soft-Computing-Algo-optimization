{
 "cells": [
  {
   "cell_type": "code",
   "execution_count": 1,
   "metadata": {
    "id": "oVlReW2DoXM6"
   },
   "outputs": [],
   "source": [
    "import numpy as np\n",
    "import pandas as pd\n",
    "import random\n",
    "import matplotlib.pyplot\n",
    "%matplotlib inline "
   ]
  },
  {
   "cell_type": "code",
   "execution_count": 2,
   "metadata": {
    "id": "pFAFnjbGoXNB"
   },
   "outputs": [],
   "source": [
    "from sklearn.datasets import load_breast_cancer\n",
    "from sklearn.model_selection import train_test_split\n",
    "\n",
    "from sklearn.metrics import accuracy_score"
   ]
  },
  {
   "cell_type": "code",
   "execution_count": 3,
   "metadata": {
    "id": "IgLnHijMoXNC"
   },
   "outputs": [],
   "source": [
    "cancer=load_breast_cancer()\n",
    "\n"
   ]
  },
  {
   "cell_type": "code",
   "execution_count": 4,
   "metadata": {
    "id": "1s3IBRAaoXND"
   },
   "outputs": [],
   "source": [
    "df = pd.DataFrame(cancer['data'],columns=cancer['feature_names'])\n",
    "label=cancer[\"target\"]"
   ]
  },
  {
   "cell_type": "code",
   "execution_count": 5,
   "metadata": {
    "colab": {
     "base_uri": "https://localhost:8080/"
    },
    "executionInfo": {
     "elapsed": 804,
     "status": "ok",
     "timestamp": 1621327710115,
     "user": {
      "displayName": "Sumit Kolhe",
      "photoUrl": "https://lh3.googleusercontent.com/a-/AOh14GjfDYzUM-JIAHDyuIg2ZpKSIiYdilbvq0AtkAfuKw=s64",
      "userId": "07560527784813480663"
     },
     "user_tz": -330
    },
    "id": "pvhU-z_KoXND",
    "outputId": "bcccbc30-92a0-49d8-9107-18bc7008da8b"
   },
   "outputs": [
    {
     "name": "stdout",
     "output_type": "stream",
     "text": [
      "   mean radius  mean texture  mean perimeter  mean area  mean smoothness  \\\n",
      "0        17.99         10.38          122.80     1001.0          0.11840   \n",
      "1        20.57         17.77          132.90     1326.0          0.08474   \n",
      "2        19.69         21.25          130.00     1203.0          0.10960   \n",
      "3        11.42         20.38           77.58      386.1          0.14250   \n",
      "4        20.29         14.34          135.10     1297.0          0.10030   \n",
      "\n",
      "   mean compactness  mean concavity  mean concave points  mean symmetry  \\\n",
      "0           0.27760          0.3001              0.14710         0.2419   \n",
      "1           0.07864          0.0869              0.07017         0.1812   \n",
      "2           0.15990          0.1974              0.12790         0.2069   \n",
      "3           0.28390          0.2414              0.10520         0.2597   \n",
      "4           0.13280          0.1980              0.10430         0.1809   \n",
      "\n",
      "   mean fractal dimension  ...  worst radius  worst texture  worst perimeter  \\\n",
      "0                 0.07871  ...         25.38          17.33           184.60   \n",
      "1                 0.05667  ...         24.99          23.41           158.80   \n",
      "2                 0.05999  ...         23.57          25.53           152.50   \n",
      "3                 0.09744  ...         14.91          26.50            98.87   \n",
      "4                 0.05883  ...         22.54          16.67           152.20   \n",
      "\n",
      "   worst area  worst smoothness  worst compactness  worst concavity  \\\n",
      "0      2019.0            0.1622             0.6656           0.7119   \n",
      "1      1956.0            0.1238             0.1866           0.2416   \n",
      "2      1709.0            0.1444             0.4245           0.4504   \n",
      "3       567.7            0.2098             0.8663           0.6869   \n",
      "4      1575.0            0.1374             0.2050           0.4000   \n",
      "\n",
      "   worst concave points  worst symmetry  worst fractal dimension  \n",
      "0                0.2654          0.4601                  0.11890  \n",
      "1                0.1860          0.2750                  0.08902  \n",
      "2                0.2430          0.3613                  0.08758  \n",
      "3                0.2575          0.6638                  0.17300  \n",
      "4                0.1625          0.2364                  0.07678  \n",
      "\n",
      "[5 rows x 30 columns]\n"
     ]
    }
   ],
   "source": [
    "print(df.head())"
   ]
  },
  {
   "cell_type": "code",
   "execution_count": null,
   "metadata": {
    "id": "fBmm89RBoXNE"
   },
   "outputs": [],
   "source": []
  },
  {
   "cell_type": "code",
   "execution_count": 6,
   "metadata": {
    "id": "I3VHWoIDoXNE"
   },
   "outputs": [],
   "source": [
    "X_train, X_test, y_train, y_test = train_test_split(df, \n",
    "                                                    label, test_size=0.30, \n",
    "                                                    random_state=101)\n",
    "\n"
   ]
  },
  {
   "cell_type": "code",
   "execution_count": 7,
   "metadata": {
    "id": "iVtDhOiRoXNF"
   },
   "outputs": [],
   "source": [
    "from sklearn.tree import DecisionTreeClassifier\n",
    "\n",
    "Dtree = DecisionTreeClassifier()\n"
   ]
  },
  {
   "cell_type": "code",
   "execution_count": 8,
   "metadata": {
    "colab": {
     "base_uri": "https://localhost:8080/"
    },
    "executionInfo": {
     "elapsed": 3853,
     "status": "ok",
     "timestamp": 1621320452258,
     "user": {
      "displayName": "Om Sapate",
      "photoUrl": "https://lh3.googleusercontent.com/a-/AOh14GgvOH23cGLpB6Au7fjoGlIW8kr6sIh2bfN4zhASpQ=s64",
      "userId": "16010582519121355149"
     },
     "user_tz": -330
    },
    "id": "2R_muoJpoXNF",
    "outputId": "079dc7b7-f402-4d66-caed-3a59cca64908"
   },
   "outputs": [
    {
     "data": {
      "text/plain": [
       "DecisionTreeClassifier()"
      ]
     },
     "execution_count": 8,
     "metadata": {},
     "output_type": "execute_result"
    }
   ],
   "source": [
    "Dtree.fit(X_train,y_train)"
   ]
  },
  {
   "cell_type": "code",
   "execution_count": 9,
   "metadata": {
    "colab": {
     "base_uri": "https://localhost:8080/"
    },
    "executionInfo": {
     "elapsed": 3849,
     "status": "ok",
     "timestamp": 1621320452259,
     "user": {
      "displayName": "Om Sapate",
      "photoUrl": "https://lh3.googleusercontent.com/a-/AOh14GgvOH23cGLpB6Au7fjoGlIW8kr6sIh2bfN4zhASpQ=s64",
      "userId": "16010582519121355149"
     },
     "user_tz": -330
    },
    "id": "UxXlk6vvoXNF",
    "outputId": "a9f27a80-4d53-4fc7-f625-9256a994f86a"
   },
   "outputs": [
    {
     "name": "stdout",
     "output_type": "stream",
     "text": [
      "Accuracy = 0.9064327485380117\n"
     ]
    }
   ],
   "source": [
    "predictions = Dtree.predict(X_test)\n",
    "print(\"Accuracy = \"+ str(accuracy_score(y_test,predictions)))"
   ]
  },
  {
   "cell_type": "code",
   "execution_count": 10,
   "metadata": {
    "id": "RAwJWE5PoXNG"
   },
   "outputs": [],
   "source": [
    "#let’s include a genetic algorithm in the process:"
   ]
  },
  {
   "cell_type": "code",
   "execution_count": null,
   "metadata": {
    "id": "eHSVk7SKoXNG"
   },
   "outputs": [],
   "source": []
  },
  {
   "cell_type": "code",
   "execution_count": 11,
   "metadata": {
    "id": "EzFRFif-oXNG"
   },
   "outputs": [],
   "source": [
    "def initilization_of_population(size,n_feat):\n",
    "    population = []\n",
    "    for i in range(size):\n",
    "        chromosome = np.ones(n_feat,dtype=np.bool)\n",
    "        chromosome[:int(0.3*n_feat)]=False\n",
    "        np.random.shuffle(chromosome)\n",
    "        population.append(chromosome)\n",
    "    return population\n",
    "\n",
    "def fitness_score(population):\n",
    "    scores = []\n",
    "    for chromosome in population:\n",
    "        Dtree.fit(X_train.iloc[:,chromosome],y_train)\n",
    "        predictions = Dtree.predict(X_test.iloc[:,chromosome])\n",
    "        scores.append(accuracy_score(y_test,predictions))\n",
    "    scores, population = np.array(scores), np.array(population) \n",
    "    inds = np.argsort(scores)\n",
    "    return list(scores[inds][::-1]), list(population[inds,:][::-1])\n",
    "\n",
    "def selection(pop_after_fit,n_parents):\n",
    "    population_nextgen = []\n",
    "    for i in range(n_parents):\n",
    "        population_nextgen.append(pop_after_fit[i])\n",
    "    return population_nextgen\n",
    "\n",
    "def crossover(pop_after_sel):\n",
    "    population_nextgen=pop_after_sel\n",
    "    for i in range(len(pop_after_sel)):\n",
    "        child=pop_after_sel[i]\n",
    "        child[3:7]=pop_after_sel[(i+1)%len(pop_after_sel)][3:7]\n",
    "        population_nextgen.append(child)\n",
    "    return population_nextgen\n",
    "\n",
    "def mutation(pop_after_cross,mutation_rate):\n",
    "    population_nextgen = []\n",
    "    for i in range(0,len(pop_after_cross)):\n",
    "        chromosome = pop_after_cross[i]\n",
    "        for j in range(len(chromosome)):\n",
    "            if random.random() < mutation_rate:\n",
    "                chromosome[j]= not chromosome[j]\n",
    "        population_nextgen.append(chromosome)\n",
    "    #print(population_nextgen)\n",
    "    return population_nextgen\n",
    "\n",
    "def generations(size,n_feat,n_parents,mutation_rate,n_gen,X_train,\n",
    "                                   X_test, y_train, y_test):\n",
    "    best_chromo= []\n",
    "    best_score= []\n",
    "    population_nextgen=initilization_of_population(size,n_feat)\n",
    "    for i in range(n_gen):\n",
    "        scores, pop_after_fit = fitness_score(population_nextgen)\n",
    "        print(scores[:2])\n",
    "        pop_after_sel = selection(pop_after_fit,n_parents)\n",
    "        pop_after_cross = crossover(pop_after_sel)\n",
    "        population_nextgen = mutation(pop_after_cross,mutation_rate)\n",
    "        best_chromo.append(pop_after_fit[0])\n",
    "        best_score.append(scores[0])\n",
    "    return best_chromo,best_score"
   ]
  },
  {
   "cell_type": "code",
   "execution_count": 12,
   "metadata": {
    "colab": {
     "base_uri": "https://localhost:8080/"
    },
    "executionInfo": {
     "elapsed": 39448,
     "status": "ok",
     "timestamp": 1621320487867,
     "user": {
      "displayName": "Om Sapate",
      "photoUrl": "https://lh3.googleusercontent.com/a-/AOh14GgvOH23cGLpB6Au7fjoGlIW8kr6sIh2bfN4zhASpQ=s64",
      "userId": "16010582519121355149"
     },
     "user_tz": -330
    },
    "id": "7YwY20YxoXNH",
    "outputId": "4a384e74-66c1-4ad1-8600-760790339be5"
   },
   "outputs": [
    {
     "name": "stdout",
     "output_type": "stream",
     "text": [
      "[0.9532163742690059, 0.9532163742690059]\n",
      "[0.9590643274853801, 0.9590643274853801]\n",
      "[0.9532163742690059, 0.9532163742690059]\n",
      "[0.9649122807017544, 0.9590643274853801]\n",
      "[0.9590643274853801, 0.9590643274853801]\n",
      "[0.9532163742690059, 0.9532163742690059]\n",
      "[0.9590643274853801, 0.9532163742690059]\n",
      "[0.9590643274853801, 0.9590643274853801]\n",
      "[0.9532163742690059, 0.9532163742690059]\n",
      "[0.9590643274853801, 0.9532163742690059]\n",
      "[0.9590643274853801, 0.9532163742690059]\n",
      "[0.9590643274853801, 0.9590643274853801]\n",
      "[0.9590643274853801, 0.9532163742690059]\n",
      "[0.9532163742690059, 0.9473684210526315]\n",
      "[0.9532163742690059, 0.9532163742690059]\n",
      "[0.9590643274853801, 0.9532163742690059]\n",
      "[0.9590643274853801, 0.9532163742690059]\n",
      "[0.9590643274853801, 0.9590643274853801]\n",
      "[0.9590643274853801, 0.9590643274853801]\n",
      "[0.9590643274853801, 0.9590643274853801]\n",
      "[0.9649122807017544, 0.9590643274853801]\n",
      "[0.9590643274853801, 0.9532163742690059]\n",
      "[0.9590643274853801, 0.9590643274853801]\n",
      "[0.9532163742690059, 0.9532163742690059]\n",
      "[0.9532163742690059, 0.9532163742690059]\n",
      "[0.9649122807017544, 0.9590643274853801]\n",
      "[0.9532163742690059, 0.9532163742690059]\n",
      "[0.9590643274853801, 0.9590643274853801]\n",
      "[0.9590643274853801, 0.9532163742690059]\n",
      "[0.9532163742690059, 0.9532163742690059]\n",
      "[0.9590643274853801, 0.9590643274853801]\n",
      "[0.9590643274853801, 0.9532163742690059]\n",
      "[0.9590643274853801, 0.9590643274853801]\n",
      "[0.9590643274853801, 0.9590643274853801]\n",
      "[0.9590643274853801, 0.9590643274853801]\n",
      "[0.9590643274853801, 0.9532163742690059]\n",
      "[0.9532163742690059, 0.9532163742690059]\n",
      "[0.9532163742690059, 0.9532163742690059]\n"
     ]
    }
   ],
   "source": [
    "chromo,score=generations(size=200,n_feat=30,n_parents=100,mutation_rate=0.10,\n",
    "                     n_gen=38,X_train=X_train,X_test=X_test,y_train=y_train,y_test=y_test)"
   ]
  },
  {
   "cell_type": "code",
   "execution_count": null,
   "metadata": {
    "id": "0fYQPGWTq9x0"
   },
   "outputs": [],
   "source": []
  },
  {
   "cell_type": "code",
   "execution_count": 13,
   "metadata": {
    "colab": {
     "base_uri": "https://localhost:8080/"
    },
    "executionInfo": {
     "elapsed": 39445,
     "status": "ok",
     "timestamp": 1621320487869,
     "user": {
      "displayName": "Om Sapate",
      "photoUrl": "https://lh3.googleusercontent.com/a-/AOh14GgvOH23cGLpB6Au7fjoGlIW8kr6sIh2bfN4zhASpQ=s64",
      "userId": "16010582519121355149"
     },
     "user_tz": -330
    },
    "id": "epxMlsNgoXNH",
    "outputId": "34aa0255-bb40-429c-84a4-a0d8440eea8e"
   },
   "outputs": [
    {
     "name": "stdout",
     "output_type": "stream",
     "text": [
      "Accuracy score after genetic algorithm is= 0.9415204678362573\n"
     ]
    }
   ],
   "source": [
    "Dtree.fit(X_train.iloc[:,chromo[-1]],y_train)\n",
    "predictions = Dtree.predict(X_test.iloc[:,chromo[-1]])\n",
    "print(\"Accuracy score after genetic algorithm is= \"+str(accuracy_score(y_test,predictions)))"
   ]
  },
  {
   "cell_type": "code",
   "execution_count": null,
   "metadata": {
    "id": "W4dPDak5oXNI"
   },
   "outputs": [],
   "source": []
  },
  {
   "cell_type": "code",
   "execution_count": null,
   "metadata": {
    "id": "Pb9O3f-roXNI"
   },
   "outputs": [],
   "source": []
  }
 ],
 "metadata": {
  "colab": {
   "collapsed_sections": [],
   "name": "SCOA GA.ipynb",
   "provenance": []
  },
  "kernelspec": {
   "display_name": "Python 3",
   "language": "python",
   "name": "python3"
  },
  "language_info": {
   "codemirror_mode": {
    "name": "ipython",
    "version": 3
   },
   "file_extension": ".py",
   "mimetype": "text/x-python",
   "name": "python",
   "nbconvert_exporter": "python",
   "pygments_lexer": "ipython3",
   "version": "3.8.3"
  }
 },
 "nbformat": 4,
 "nbformat_minor": 1
}
